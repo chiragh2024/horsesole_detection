{
 "cells": [
  {
   "cell_type": "markdown",
   "id": "d79320e9-b445-4f2f-8127-eb35071d7db4",
   "metadata": {},
   "source": [
    "# Step 4: Performing Horse sole Detection"
   ]
  },
  {
   "cell_type": "code",
   "execution_count": 7,
   "id": "5c3d9ab7-a986-4b55-b274-837ca9dce052",
   "metadata": {},
   "outputs": [
    {
     "name": "stdout",
     "output_type": "stream",
     "text": [
      "WARNING:tensorflow:From C:\\Users\\admin2\\anaconda3\\envs\\horsesole\\Lib\\site-packages\\keras\\src\\saving\\legacy\\saved_model\\load.py:107: The name tf.gfile.Exists is deprecated. Please use tf.io.gfile.exists instead.\n",
      "\n",
      "WARNING:tensorflow:From C:\\Users\\admin2\\anaconda3\\envs\\horsesole\\Lib\\site-packages\\keras\\src\\engine\\functional.py:156: The name tf.executing_eagerly_outside_functions is deprecated. Please use tf.compat.v1.executing_eagerly_outside_functions instead.\n",
      "\n",
      "WARNING:tensorflow:From C:\\Users\\admin2\\anaconda3\\envs\\horsesole\\Lib\\site-packages\\keras\\src\\layers\\pooling\\max_pooling2d.py:161: The name tf.nn.max_pool is deprecated. Please use tf.nn.max_pool2d instead.\n",
      "\n"
     ]
    }
   ],
   "source": [
    "from tensorflow.keras.models import load_model\n",
    "model=load_model(r'C:\\Users\\admin2\\horsesole_detection\\models\\horse_sole_detection')"
   ]
  },
  {
   "cell_type": "code",
   "execution_count": 11,
   "id": "bf942481-4862-4fef-a0a4-058df2f7ffbd",
   "metadata": {},
   "outputs": [],
   "source": [
    "import cv2\n",
    "import os\n",
    "import imutils\n",
    "import numpy as np\n",
    "import pandas as pd\n",
    "from tensorflow.keras.preprocessing.image import load_img\n",
    "from tensorflow.keras.preprocessing.image import img_to_array\n",
    "\n",
    "new_imagepath=r'C:\\Users\\admin2\\horsesole_detection\\datatset\\images\\image_0047.jpg'\n",
    "# 0147, 0388, 0004, 0049,362, 365,0018, 0028\n",
    "\n",
    "new_image = load_img(new_imagepath,\n",
    "                 target_size=(224,224))\n",
    "new_image = img_to_array(new_image) / 255.0\n",
    "new_image = np.expand_dims(new_image,axis=0)"
   ]
  },
  {
   "cell_type": "code",
   "execution_count": 12,
   "id": "f5ab8912-ea6c-4919-94b3-766c923cf2ca",
   "metadata": {},
   "outputs": [
    {
     "name": "stdout",
     "output_type": "stream",
     "text": [
      "1/1 [==============================] - 0s 182ms/step\n"
     ]
    }
   ],
   "source": [
    "preds=model.predict(new_image)[0]\n",
    "(startX,startY,endX,endY)=preds"
   ]
  },
  {
   "cell_type": "code",
   "execution_count": 13,
   "id": "a4c729b0-82bc-4825-bae7-4969b1fa75ef",
   "metadata": {},
   "outputs": [
    {
     "name": "stdout",
     "output_type": "stream",
     "text": [
      "Width: 3.25 inches, Height: 2.99 inches\n",
      "center point:(291,268)\n"
     ]
    }
   ],
   "source": [
    "# Specify the thickness of the bounding box\n",
    "thickness = 2\n",
    "\n",
    "# Read the original image for display\n",
    "new_image = cv2.imread(new_imagepath)\n",
    "new_image = imutils.resize(new_image, width=600)\n",
    "(h, w) = new_image.shape[:2]\n",
    "\n",
    "# Calculate coordinates for the bounding box\n",
    "startX = int(startX * w)\n",
    "startY = int(startY * h)\n",
    "endX = int(endX * w)\n",
    "endY = int(endY * h)\n",
    "\n",
    "# Find the center point of the bounding box\n",
    "center_x = (startX + endX) // 2\n",
    "center_y = (startY + endY) // 2\n",
    "\n",
    "# Find the height and width of the bounding box\n",
    "box_width = endX - startX\n",
    "box_height = endY - startY\n",
    "\n",
    "# Define assumed pixels per inch (PPI)\n",
    "ppi = 96\n",
    "\n",
    "# Calculate inches per pixel\n",
    "inches_per_pixel = 1 / ppi\n",
    "\n",
    "# Find the height and width of the bounding box in inches\n",
    "box_width_inches = box_width * inches_per_pixel\n",
    "box_height_inches = box_height * inches_per_pixel\n",
    "\n",
    "# Print the width, height, and center point in inches\n",
    "print(f\"Width: {box_width_inches:.2f} inches, Height: {box_height_inches:.2f} inches\")\n",
    "print(f\"center point:({center_x},{center_y})\")\n",
    "\n",
    "#draw only rectangle box\n",
    "cv2.rectangle(new_image,(startX,startY),(endX,endY),(0,255,0),3)\n",
    "\n",
    "# Draw the center point (a small red dot)\n",
    "cv2.circle(new_image, (center_x, center_y), 5, (0, 0, 255), -1)\n",
    "\n",
    "# Crop the inner part of the bounding box\n",
    "cropped_image = new_image[startY:endY, startX:endX]\n",
    "\n",
    "# Get the filename without extension\n",
    "filename_without_extension = os.path.splitext(os.path.basename(new_imagepath))[0]\n",
    "\n",
    "# Specify the directory where you want to save the cropped image\n",
    "output_directory = r'C:\\Users\\admin2\\horsesole_detection\\output\\cropped_images'\n",
    "\n",
    "# Define the new filename for the cropped image\n",
    "cropped_filename = 'cropped_' + filename_without_extension + '.jpg'\n",
    "\n",
    "# Create the full output path\n",
    "output_path = os.path.join(output_directory, cropped_filename)\n",
    "\n",
    "# Save the cropped image\n",
    "cv2.imwrite(output_path, cropped_image)\n",
    "\n",
    "# Display the image with filled bounding box and center point\n",
    "cv2.imshow('Image with Bounding Box and Center Point', cropped_image)\n",
    "cv2.waitKey(0)\n",
    "cv2.destroyAllWindows()\n"
   ]
  },
  {
   "cell_type": "code",
   "execution_count": null,
   "id": "29927a47-99a6-4d1f-aa10-a81b5e872872",
   "metadata": {},
   "outputs": [],
   "source": []
  },
  {
   "cell_type": "code",
   "execution_count": null,
   "id": "b6a64c30-8198-4f8f-870e-92bc272c79bf",
   "metadata": {},
   "outputs": [],
   "source": []
  }
 ],
 "metadata": {
  "kernelspec": {
   "display_name": "Python 3 (ipykernel)",
   "language": "python",
   "name": "python3"
  },
  "language_info": {
   "codemirror_mode": {
    "name": "ipython",
    "version": 3
   },
   "file_extension": ".py",
   "mimetype": "text/x-python",
   "name": "python",
   "nbconvert_exporter": "python",
   "pygments_lexer": "ipython3",
   "version": "3.11.5"
  }
 },
 "nbformat": 4,
 "nbformat_minor": 5
}
