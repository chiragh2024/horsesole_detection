{
 "cells": [
  {
   "cell_type": "code",
   "execution_count": 1,
   "id": "36bc40c3-485b-4f9f-ba89-080842ba4f21",
   "metadata": {},
   "outputs": [],
   "source": [
    "import cv2\n",
    "import numpy as np\n",
    "import os"
   ]
  },
  {
   "cell_type": "code",
   "execution_count": 2,
   "id": "5f55417c-c577-4835-8592-dd89b4c43cb8",
   "metadata": {},
   "outputs": [],
   "source": [
    "def generate_point_cloud(depth_map_file, image_file):\n",
    "    # Load depth map and 2D image\n",
    "    depth_image = cv2.imread(depth_map_file, cv2.IMREAD_UNCHANGED)\n",
    "    color_image = cv2.imread(image_file)\n",
    "\n",
    "    # Check if depth map loaded successfully\n",
    "    if depth_image is None:\n",
    "        raise ValueError(\"Unable to load depth map.\")\n",
    "\n",
    "    # Convert depth map to grayscale if it has multiple channels\n",
    "    if len(depth_image.shape) > 2:\n",
    "        depth_image = cv2.cvtColor(depth_image, cv2.COLOR_BGR2GRAY)\n",
    "\n",
    "    # Intrinsic parameters (adjust these according to your camera)\n",
    "    focal_length = 250  # Example focal length\n",
    "    center_x = color_image.shape[1] / 2\n",
    "    center_y = color_image.shape[0] / 2\n",
    "\n",
    "    # Initialize empty point cloud\n",
    "    points = []\n",
    "\n",
    "    # Generate point cloud\n",
    "    for y in range(depth_image.shape[0]):\n",
    "        for x in range(depth_image.shape[1]):\n",
    "            # Retrieve depth value\n",
    "            depth = depth_image[y, x]\n",
    "\n",
    "            # Skip invalid depth values (you may need to adjust this condition)\n",
    "            if depth <= 0:  # Adjust the condition to handle invalid depth values\n",
    "                continue\n",
    "\n",
    "            # Calculate 3D coordinates using depth and pixel coordinates\n",
    "            Z = depth\n",
    "            X = (x - center_x) * Z / focal_length\n",
    "            Y = - (y - center_y) * Z / focal_length\n",
    "\n",
    "            # Retrieve color from 2D image\n",
    "            color = color_image[y, x]\n",
    "\n",
    "            # Append point to point cloud\n",
    "            points.append([X, Y, Z, color[2], color[1], color[0]])\n",
    "\n",
    "    # Convert point cloud to NumPy array\n",
    "    point_cloud = np.array(points, dtype=np.float32)\n",
    "\n",
    "    return point_cloud\n",
    "\n",
    "def save_point_cloud_pcd(point_cloud, pcd_file):\n",
    "    # Open the file for writing\n",
    "    with open(pcd_file, 'w') as f:\n",
    "        # Write PCD header\n",
    "        f.write(\"# .PCD v0.7 - Point Cloud Data file format\\n\")\n",
    "        f.write(\"VERSION 0.7\\n\")\n",
    "        f.write(\"FIELDS x y z rgb\\n\")\n",
    "        f.write(\"SIZE 4 4 4 4\\n\")\n",
    "        f.write(\"TYPE F F F F\\n\")\n",
    "        f.write(\"COUNT 1 1 1 1\\n\")\n",
    "        f.write(\"WIDTH {}\\n\".format(point_cloud.shape[0]))\n",
    "        f.write(\"HEIGHT 1\\n\")\n",
    "        f.write(\"VIEWPOINT 0 0 0 1 0 0 0\\n\")\n",
    "        f.write(\"POINTS {}\\n\".format(point_cloud.shape[0]))\n",
    "        f.write(\"DATA ascii\\n\")  # Assuming data is in ASCII format\n",
    "\n",
    "        # Write point cloud data\n",
    "        for point in point_cloud:\n",
    "            f.write(\"{} {} {} {} {} {}\\n\".format(point[0], point[1], point[2], point[3], point[4], point[5]))\n"
   ]
  },
  {
   "cell_type": "code",
   "execution_count": 6,
   "id": "a67e1d93-6067-4702-8a46-963081683275",
   "metadata": {},
   "outputs": [],
   "source": [
    "# Example usage\n",
    "depth_map_file =r'C:\\Users\\admin2\\horsesole_detection\\output\\depth_map\\depth_map_cropped_image_0362.jpg'\n",
    "image_file = r'C:\\Users\\admin2\\horsesole_detection\\output\\cropped_images\\cropped_image_0362.jpg'\n"
   ]
  },
  {
   "cell_type": "code",
   "execution_count": 7,
   "id": "5db7a28b-da39-4787-a24f-b8ca4dcbc738",
   "metadata": {},
   "outputs": [
    {
     "name": "stdout",
     "output_type": "stream",
     "text": [
      "file saved: C:\\Users\\admin2\\horsesole_detection\\output\\points_cloud\\pointcloud_cropped_image_0362.pcd\n"
     ]
    }
   ],
   "source": [
    "point_cloud = generate_point_cloud(depth_map_file, image_file)\n",
    "\n",
    "# Extract filename from the image file path\n",
    "image_filename = os.path.splitext(os.path.basename(image_file))[0]\n",
    "\n",
    "# Specify the directory where you want to save the point cloud\n",
    "output_directory = r'C:\\Users\\admin2\\horsesole_detection\\output\\points_cloud'\n",
    "\n",
    "# Ensure the output directory exists, create it if necessary\n",
    "os.makedirs(output_directory, exist_ok=True)\n",
    "\n",
    "# Construct the full path for the output PCD file\n",
    "pcd_file = os.path.join(output_directory, f'pointcloud_{image_filename}.pcd')\n",
    "\n",
    "print(f'file saved: {pcd_file}')\n",
    "\n",
    "# Save point cloud to file\n",
    "save_point_cloud_pcd(point_cloud, pcd_file)"
   ]
  },
  {
   "cell_type": "code",
   "execution_count": 8,
   "id": "3eeb3e27-93e7-44b0-b407-66b4077efd15",
   "metadata": {},
   "outputs": [],
   "source": [
    "import open3d as o3d\n",
    "\n",
    "# Load point cloud from PCD file\n",
    "#pcd_file = r'C:\\Users\\admin2\\horsesole_detection\\output\\points_cloud\\pointcloud_cropped_image_0362.pcd'\n",
    "point_cloud = o3d.io.read_point_cloud(pcd_file)\n",
    "\n",
    "# Visualize the point cloud\n",
    "o3d.visualization.draw_geometries([point_cloud])\n"
   ]
  },
  {
   "cell_type": "code",
   "execution_count": null,
   "id": "3283eb27-88e5-490c-ba5b-f91128f1f9b5",
   "metadata": {},
   "outputs": [],
   "source": []
  }
 ],
 "metadata": {
  "kernelspec": {
   "display_name": "Python 3 (ipykernel)",
   "language": "python",
   "name": "python3"
  },
  "language_info": {
   "codemirror_mode": {
    "name": "ipython",
    "version": 3
   },
   "file_extension": ".py",
   "mimetype": "text/x-python",
   "name": "python",
   "nbconvert_exporter": "python",
   "pygments_lexer": "ipython3",
   "version": "3.11.5"
  }
 },
 "nbformat": 4,
 "nbformat_minor": 5
}
