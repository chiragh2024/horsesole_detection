{
 "cells": [
  {
   "cell_type": "markdown",
   "id": "141b5221-43e2-4e9d-9b5c-21cc371c0255",
   "metadata": {},
   "source": [
    "# Step-1: Data Preprocessing"
   ]
  },
  {
   "cell_type": "code",
   "execution_count": 1,
   "id": "90a4cd2b-aacf-4fb0-88bf-66df88912083",
   "metadata": {},
   "outputs": [
    {
     "name": "stdout",
     "output_type": "stream",
     "text": [
      "WARNING:tensorflow:From C:\\Users\\admin2\\anaconda3\\Lib\\site-packages\\keras\\src\\losses.py:2976: The name tf.losses.sparse_softmax_cross_entropy is deprecated. Please use tf.compat.v1.losses.sparse_softmax_cross_entropy instead.\n",
      "\n"
     ]
    }
   ],
   "source": [
    "# import libraries\n",
    "import cv2\n",
    "import os\n",
    "import imutils\n",
    "import numpy as np\n",
    "import pandas as pd\n",
    "import tensorflow as tf\n",
    "import matplotlib.pyplot as plt\n",
    "from tensorflow.keras.preprocessing.image import load_img\n",
    "from tensorflow.keras.preprocessing.image import img_to_array\n",
    "from sklearn.model_selection import train_test_split\n",
    "from tensorflow.keras.applications import VGG16\n",
    "from tensorflow.keras.layers import Input,Flatten,Dense\n",
    "from tensorflow.keras.models import Model\n",
    "from tensorflow.keras.optimizers import Adam\n",
    "from tensorflow.keras.models import load_model"
   ]
  },
  {
   "cell_type": "code",
   "execution_count": 2,
   "id": "7e4d79c4-8c37-4ae1-b516-8fd6349cdbd9",
   "metadata": {},
   "outputs": [],
   "source": [
    "# initialized the path of the dataset.\n",
    "\n",
    "base_path=r\"C:\\Users\\admin2\\horsesole_detection\\datatset\"\n",
    "images=os.path.sep.join([base_path,'images'])\n",
    "annotations=os.path.sep.join([base_path,'annotations.csv'])"
   ]
  },
  {
   "cell_type": "code",
   "execution_count": 3,
   "id": "e6dd102e-6472-473a-b7cf-b5e56909bce7",
   "metadata": {},
   "outputs": [],
   "source": [
    "# Lets Load Dataset\n",
    "# horsesole annotation is a Csv file thats why we can see through with rows\n",
    "rows= open(annotations).read().strip().split(\"\\n\")\n",
    "\n",
    "# lets make three list where we save our exact bounding boxes\n",
    "data=[]\n",
    "targets=[]\n",
    "filenames=[]"
   ]
  },
  {
   "cell_type": "code",
   "execution_count": 4,
   "id": "8772e00f-5a4b-4676-8215-ff22251c0c6b",
   "metadata": {},
   "outputs": [],
   "source": [
    "# After load we have to split dataset according to images\n",
    "\n",
    "# we also save images into array format so import img_array library too\n",
    "for row in rows:\n",
    "  row=row.split(\",\")\n",
    "    \n",
    "  # we always create rectangle with h+w so we have to know where exactly we should start from\n",
    "  (filename,startX,startY,endX,endY)=row\n",
    "\n",
    "  imagepaths=os.path.sep.join([images,filename])\n",
    "  image=cv2.imread(imagepaths)\n",
    "  (h,w)=image.shape[:2]\n",
    "\n",
    "  # initializing starting point\n",
    "  # Why we take in float because when we convert into array so then will trouble happen\n",
    "  startX = float(startX) / w\n",
    "  startY = float(startY) / h\n",
    "    \n",
    "  # Also initialize ending point \n",
    "  endX = float(endX) / w\n",
    "  endY = float(endY) / h\n",
    "    \n",
    "  #load image and give them default size\n",
    "  image=load_img(imagepaths,target_size=(224,224))\n",
    "    \n",
    "  # see here if we cant take it into float then we face trouble \n",
    "  image=img_to_array(image)\n",
    "\n",
    "  # Lets append into data , targets ,filenames\n",
    "  targets.append((startX,startY,endX,endY))\n",
    "  filenames.append(filename)\n",
    "  data.append(image)"
   ]
  },
  {
   "cell_type": "code",
   "execution_count": 5,
   "id": "09247701-8b30-4139-a25e-b946102c00d3",
   "metadata": {},
   "outputs": [],
   "source": [
    "# Normalizing Data here also we face would face issues if we take input as integer\n",
    "data=np.array(data,dtype='float32') / 255.0\n",
    "targets=np.array(targets,dtype='float32')"
   ]
  },
  {
   "cell_type": "code",
   "execution_count": 6,
   "id": "28857d44-b07b-4a23-9b1e-290177169404",
   "metadata": {},
   "outputs": [],
   "source": [
    "# split into testing and training\n",
    "split=train_test_split(data,targets,filenames,test_size=0.10,random_state=42)"
   ]
  },
  {
   "cell_type": "code",
   "execution_count": 7,
   "id": "bffb9971-45c1-403f-8f82-c47e4bf905bb",
   "metadata": {},
   "outputs": [],
   "source": [
    "# lets split into steps\n",
    "(train_images,test_images) = split[:2]\n",
    "(train_targets,test_targets) = split[2:4]\n",
    "(train_filenames,test_filenames) = split[4:]\n"
   ]
  },
  {
   "cell_type": "markdown",
   "id": "323f1502-9caa-41b8-8c44-639a7ac4c8f0",
   "metadata": {},
   "source": [
    "# Step 2: Creating Custom model using pre-trained model"
   ]
  },
  {
   "cell_type": "code",
   "execution_count": 8,
   "id": "7860c9fb-9875-4684-a004-55f70b1a334f",
   "metadata": {},
   "outputs": [
    {
     "name": "stdout",
     "output_type": "stream",
     "text": [
      "WARNING:tensorflow:From C:\\Users\\admin2\\anaconda3\\Lib\\site-packages\\keras\\src\\backend.py:1398: The name tf.executing_eagerly_outside_functions is deprecated. Please use tf.compat.v1.executing_eagerly_outside_functions instead.\n",
      "\n",
      "WARNING:tensorflow:From C:\\Users\\admin2\\anaconda3\\Lib\\site-packages\\keras\\src\\layers\\pooling\\max_pooling2d.py:161: The name tf.nn.max_pool is deprecated. Please use tf.nn.max_pool2d instead.\n",
      "\n"
     ]
    }
   ],
   "source": [
    "# Imagenet is a competition every year held and VGG16 is winner of between  2013-14\n",
    "# so here we just want limited layers so thats why we false included_top \n",
    "tf.random.set_seed(42)\n",
    "vgg=VGG16(weights='imagenet',include_top=False)"
   ]
  },
  {
   "cell_type": "code",
   "execution_count": 9,
   "id": "59ade313-4354-48f6-b5e7-aaaa3483ada4",
   "metadata": {},
   "outputs": [],
   "source": [
    "# we use VGG16 as per our requirement not use whole \n",
    "vgg.trainable = False\n",
    "\n",
    "# 3. Create inputs into the base model\n",
    "inputs = tf.keras.layers.Input(shape=(224, 224, 3), name=\"input_layer\")\n",
    "\n",
    "x=vgg(inputs)\n",
    "\n",
    "flatten = Flatten()(x)\n",
    "\n",
    "# Lets make bboxhead\n",
    "bboxhead = Dense(128,activation=\"relu\")(flatten)\n",
    "bboxhead = Dense(64,activation=\"relu\")(bboxhead)\n",
    "bboxhead = Dense(32,activation=\"relu\")(bboxhead)\n",
    "bboxhead = Dense(4,activation=\"relu\")(bboxhead)\n",
    "\n",
    "# lets combine out input and output layer in the model\n",
    "model = Model(inputs =inputs,outputs = bboxhead)\n",
    "     "
   ]
  },
  {
   "cell_type": "code",
   "execution_count": 10,
   "id": "1c85e353-7825-4045-86fc-caaecf09bd70",
   "metadata": {},
   "outputs": [
    {
     "name": "stdout",
     "output_type": "stream",
     "text": [
      "Model: \"vgg16\"\n",
      "_________________________________________________________________\n",
      " Layer (type)                Output Shape              Param #   \n",
      "=================================================================\n",
      " input_1 (InputLayer)        [(None, None, None, 3)]   0         \n",
      "                                                                 \n",
      " block1_conv1 (Conv2D)       (None, None, None, 64)    1792      \n",
      "                                                                 \n",
      " block1_conv2 (Conv2D)       (None, None, None, 64)    36928     \n",
      "                                                                 \n",
      " block1_pool (MaxPooling2D)  (None, None, None, 64)    0         \n",
      "                                                                 \n",
      " block2_conv1 (Conv2D)       (None, None, None, 128)   73856     \n",
      "                                                                 \n",
      " block2_conv2 (Conv2D)       (None, None, None, 128)   147584    \n",
      "                                                                 \n",
      " block2_pool (MaxPooling2D)  (None, None, None, 128)   0         \n",
      "                                                                 \n",
      " block3_conv1 (Conv2D)       (None, None, None, 256)   295168    \n",
      "                                                                 \n",
      " block3_conv2 (Conv2D)       (None, None, None, 256)   590080    \n",
      "                                                                 \n",
      " block3_conv3 (Conv2D)       (None, None, None, 256)   590080    \n",
      "                                                                 \n",
      " block3_pool (MaxPooling2D)  (None, None, None, 256)   0         \n",
      "                                                                 \n",
      " block4_conv1 (Conv2D)       (None, None, None, 512)   1180160   \n",
      "                                                                 \n",
      " block4_conv2 (Conv2D)       (None, None, None, 512)   2359808   \n",
      "                                                                 \n",
      " block4_conv3 (Conv2D)       (None, None, None, 512)   2359808   \n",
      "                                                                 \n",
      " block4_pool (MaxPooling2D)  (None, None, None, 512)   0         \n",
      "                                                                 \n",
      " block5_conv1 (Conv2D)       (None, None, None, 512)   2359808   \n",
      "                                                                 \n",
      " block5_conv2 (Conv2D)       (None, None, None, 512)   2359808   \n",
      "                                                                 \n",
      " block5_conv3 (Conv2D)       (None, None, None, 512)   2359808   \n",
      "                                                                 \n",
      " block5_pool (MaxPooling2D)  (None, None, None, 512)   0         \n",
      "                                                                 \n",
      "=================================================================\n",
      "Total params: 14714688 (56.13 MB)\n",
      "Trainable params: 0 (0.00 Byte)\n",
      "Non-trainable params: 14714688 (56.13 MB)\n",
      "_________________________________________________________________\n"
     ]
    }
   ],
   "source": [
    "vgg.summary()"
   ]
  },
  {
   "cell_type": "code",
   "execution_count": 11,
   "id": "997da6c9-f579-46d0-8b1a-4a1a4c25e383",
   "metadata": {},
   "outputs": [
    {
     "name": "stdout",
     "output_type": "stream",
     "text": [
      "Model: \"model\"\n",
      "_________________________________________________________________\n",
      " Layer (type)                Output Shape              Param #   \n",
      "=================================================================\n",
      " input_layer (InputLayer)    [(None, 224, 224, 3)]     0         \n",
      "                                                                 \n",
      " vgg16 (Functional)          (None, None, None, 512)   14714688  \n",
      "                                                                 \n",
      " flatten (Flatten)           (None, 25088)             0         \n",
      "                                                                 \n",
      " dense (Dense)               (None, 128)               3211392   \n",
      "                                                                 \n",
      " dense_1 (Dense)             (None, 64)                8256      \n",
      "                                                                 \n",
      " dense_2 (Dense)             (None, 32)                2080      \n",
      "                                                                 \n",
      " dense_3 (Dense)             (None, 4)                 132       \n",
      "                                                                 \n",
      "=================================================================\n",
      "Total params: 17936548 (68.42 MB)\n",
      "Trainable params: 3221860 (12.29 MB)\n",
      "Non-trainable params: 14714688 (56.13 MB)\n",
      "_________________________________________________________________\n"
     ]
    }
   ],
   "source": [
    "model.summary()"
   ]
  },
  {
   "cell_type": "code",
   "execution_count": 15,
   "id": "f3b04a84-adbf-4ebe-826f-8a203968ba55",
   "metadata": {},
   "outputs": [],
   "source": [
    "# Lets Compile our model \n",
    "opt = Adam(1e-4)\n",
    "     "
   ]
  },
  {
   "cell_type": "code",
   "execution_count": 16,
   "id": "2b606a30-14b1-452b-8df2-415900e3c4e6",
   "metadata": {},
   "outputs": [],
   "source": [
    "# Compile the model\n",
    "model.compile(loss='msle',optimizer=opt, metrics=['accuracy'])"
   ]
  },
  {
   "cell_type": "code",
   "execution_count": 17,
   "id": "654feaa2-6f91-446c-8d3d-8c093afe7dcd",
   "metadata": {},
   "outputs": [
    {
     "name": "stdout",
     "output_type": "stream",
     "text": [
      "Epoch 1/50\n",
      "WARNING:tensorflow:From C:\\Users\\admin2\\anaconda3\\Lib\\site-packages\\keras\\src\\utils\\tf_utils.py:492: The name tf.ragged.RaggedTensorValue is deprecated. Please use tf.compat.v1.ragged.RaggedTensorValue instead.\n",
      "\n",
      "WARNING:tensorflow:From C:\\Users\\admin2\\anaconda3\\Lib\\site-packages\\keras\\src\\engine\\base_layer_utils.py:384: The name tf.executing_eagerly_outside_functions is deprecated. Please use tf.compat.v1.executing_eagerly_outside_functions instead.\n",
      "\n",
      "11/11 [==============================] - 43s 4s/step - loss: 0.1137 - accuracy: 0.4670 - val_loss: 0.0136 - val_accuracy: 0.5897\n",
      "Epoch 2/50\n",
      "11/11 [==============================] - 45s 4s/step - loss: 0.0119 - accuracy: 0.4642 - val_loss: 0.0092 - val_accuracy: 0.5897\n",
      "Epoch 3/50\n",
      "11/11 [==============================] - 41s 4s/step - loss: 0.0090 - accuracy: 0.5960 - val_loss: 0.0072 - val_accuracy: 0.6154\n",
      "Epoch 4/50\n",
      "11/11 [==============================] - 38s 3s/step - loss: 0.0066 - accuracy: 0.6218 - val_loss: 0.0050 - val_accuracy: 0.6923\n",
      "Epoch 5/50\n",
      "11/11 [==============================] - 40s 4s/step - loss: 0.0040 - accuracy: 0.7163 - val_loss: 0.0040 - val_accuracy: 0.7436\n",
      "Epoch 6/50\n",
      "11/11 [==============================] - 38s 3s/step - loss: 0.0022 - accuracy: 0.7736 - val_loss: 0.0028 - val_accuracy: 0.7179\n",
      "Epoch 7/50\n",
      "11/11 [==============================] - 38s 3s/step - loss: 0.0012 - accuracy: 0.8023 - val_loss: 0.0020 - val_accuracy: 0.7179\n",
      "Epoch 8/50\n",
      "11/11 [==============================] - 38s 4s/step - loss: 8.0238e-04 - accuracy: 0.8367 - val_loss: 0.0018 - val_accuracy: 0.7436\n",
      "Epoch 9/50\n",
      "11/11 [==============================] - 40s 4s/step - loss: 5.3468e-04 - accuracy: 0.8739 - val_loss: 0.0017 - val_accuracy: 0.8205\n",
      "Epoch 10/50\n",
      "11/11 [==============================] - 38s 3s/step - loss: 4.1486e-04 - accuracy: 0.8997 - val_loss: 0.0016 - val_accuracy: 0.7692\n",
      "Epoch 11/50\n",
      "11/11 [==============================] - 41s 4s/step - loss: 3.2794e-04 - accuracy: 0.8940 - val_loss: 0.0015 - val_accuracy: 0.7949\n",
      "Epoch 12/50\n",
      "11/11 [==============================] - 39s 4s/step - loss: 2.7605e-04 - accuracy: 0.9140 - val_loss: 0.0015 - val_accuracy: 0.8462\n",
      "Epoch 13/50\n",
      "11/11 [==============================] - 38s 4s/step - loss: 2.3943e-04 - accuracy: 0.9284 - val_loss: 0.0015 - val_accuracy: 0.8462\n",
      "Epoch 14/50\n",
      "11/11 [==============================] - 38s 3s/step - loss: 2.1342e-04 - accuracy: 0.9169 - val_loss: 0.0015 - val_accuracy: 0.7436\n",
      "Epoch 15/50\n",
      "11/11 [==============================] - 39s 4s/step - loss: 1.9692e-04 - accuracy: 0.9370 - val_loss: 0.0015 - val_accuracy: 0.8205\n",
      "Epoch 16/50\n",
      "11/11 [==============================] - 38s 4s/step - loss: 1.8171e-04 - accuracy: 0.9341 - val_loss: 0.0014 - val_accuracy: 0.8205\n",
      "Epoch 17/50\n",
      "11/11 [==============================] - 38s 4s/step - loss: 1.7721e-04 - accuracy: 0.9312 - val_loss: 0.0015 - val_accuracy: 0.7436\n",
      "Epoch 18/50\n",
      "11/11 [==============================] - 38s 3s/step - loss: 1.6854e-04 - accuracy: 0.9398 - val_loss: 0.0015 - val_accuracy: 0.7949\n",
      "Epoch 19/50\n",
      "11/11 [==============================] - 39s 4s/step - loss: 1.5949e-04 - accuracy: 0.9427 - val_loss: 0.0014 - val_accuracy: 0.8718\n",
      "Epoch 20/50\n",
      "11/11 [==============================] - 40s 4s/step - loss: 1.5665e-04 - accuracy: 0.9456 - val_loss: 0.0014 - val_accuracy: 0.8718\n",
      "Epoch 21/50\n",
      "11/11 [==============================] - 40s 4s/step - loss: 1.4916e-04 - accuracy: 0.9542 - val_loss: 0.0014 - val_accuracy: 0.8205\n",
      "Epoch 22/50\n",
      "11/11 [==============================] - 41s 4s/step - loss: 1.4593e-04 - accuracy: 0.9513 - val_loss: 0.0014 - val_accuracy: 0.8718\n",
      "Epoch 23/50\n",
      "11/11 [==============================] - 41s 4s/step - loss: 1.4355e-04 - accuracy: 0.9513 - val_loss: 0.0014 - val_accuracy: 0.8205\n",
      "Epoch 24/50\n",
      "11/11 [==============================] - 41s 4s/step - loss: 1.4301e-04 - accuracy: 0.9570 - val_loss: 0.0014 - val_accuracy: 0.8205\n",
      "Epoch 25/50\n",
      "11/11 [==============================] - 38s 4s/step - loss: 1.3955e-04 - accuracy: 0.9513 - val_loss: 0.0014 - val_accuracy: 0.8205\n",
      "Epoch 26/50\n",
      "11/11 [==============================] - 41s 4s/step - loss: 1.3847e-04 - accuracy: 0.9628 - val_loss: 0.0014 - val_accuracy: 0.8205\n",
      "Epoch 27/50\n",
      "11/11 [==============================] - 41s 4s/step - loss: 1.4868e-04 - accuracy: 0.9570 - val_loss: 0.0015 - val_accuracy: 0.8205\n",
      "Epoch 28/50\n",
      "11/11 [==============================] - 38s 4s/step - loss: 1.4884e-04 - accuracy: 0.9570 - val_loss: 0.0014 - val_accuracy: 0.8205\n",
      "Epoch 29/50\n",
      "11/11 [==============================] - 42s 4s/step - loss: 1.4845e-04 - accuracy: 0.9513 - val_loss: 0.0014 - val_accuracy: 0.8205\n",
      "Epoch 30/50\n",
      "11/11 [==============================] - 47s 4s/step - loss: 1.4393e-04 - accuracy: 0.9599 - val_loss: 0.0014 - val_accuracy: 0.8205\n",
      "Epoch 31/50\n",
      "11/11 [==============================] - 52s 5s/step - loss: 1.4520e-04 - accuracy: 0.9513 - val_loss: 0.0014 - val_accuracy: 0.8718\n",
      "Epoch 32/50\n",
      "11/11 [==============================] - 46s 4s/step - loss: 1.3462e-04 - accuracy: 0.9771 - val_loss: 0.0014 - val_accuracy: 0.8718\n",
      "Epoch 33/50\n",
      "11/11 [==============================] - 38s 3s/step - loss: 1.3199e-04 - accuracy: 0.9742 - val_loss: 0.0013 - val_accuracy: 0.8205\n",
      "Epoch 34/50\n",
      "11/11 [==============================] - 38s 4s/step - loss: 1.2991e-04 - accuracy: 0.9656 - val_loss: 0.0014 - val_accuracy: 0.8205\n",
      "Epoch 35/50\n",
      "11/11 [==============================] - 70s 7s/step - loss: 1.2920e-04 - accuracy: 0.9628 - val_loss: 0.0014 - val_accuracy: 0.8974\n",
      "Epoch 36/50\n",
      "11/11 [==============================] - 69s 6s/step - loss: 1.3256e-04 - accuracy: 0.9742 - val_loss: 0.0014 - val_accuracy: 0.8205\n",
      "Epoch 37/50\n",
      "11/11 [==============================] - 66s 6s/step - loss: 1.4168e-04 - accuracy: 0.9628 - val_loss: 0.0014 - val_accuracy: 0.8718\n",
      "Epoch 38/50\n",
      "11/11 [==============================] - 67s 6s/step - loss: 1.3824e-04 - accuracy: 0.9742 - val_loss: 0.0014 - val_accuracy: 0.8718\n",
      "Epoch 39/50\n",
      "11/11 [==============================] - 66s 6s/step - loss: 1.3625e-04 - accuracy: 0.9713 - val_loss: 0.0013 - val_accuracy: 0.8205\n",
      "Epoch 40/50\n",
      "11/11 [==============================] - 67s 6s/step - loss: 1.3459e-04 - accuracy: 0.9628 - val_loss: 0.0014 - val_accuracy: 0.8205\n",
      "Epoch 41/50\n",
      "11/11 [==============================] - 54s 5s/step - loss: 1.5308e-04 - accuracy: 0.9742 - val_loss: 0.0013 - val_accuracy: 0.8205\n",
      "Epoch 42/50\n",
      "11/11 [==============================] - 55s 5s/step - loss: 1.5227e-04 - accuracy: 0.9742 - val_loss: 0.0014 - val_accuracy: 0.8718\n",
      "Epoch 43/50\n",
      "11/11 [==============================] - 56s 5s/step - loss: 1.5414e-04 - accuracy: 0.9742 - val_loss: 0.0014 - val_accuracy: 0.8205\n",
      "Epoch 44/50\n",
      "11/11 [==============================] - 53s 5s/step - loss: 1.4788e-04 - accuracy: 0.9742 - val_loss: 0.0014 - val_accuracy: 0.7949\n",
      "Epoch 45/50\n",
      "11/11 [==============================] - 53s 5s/step - loss: 1.3945e-04 - accuracy: 0.9713 - val_loss: 0.0013 - val_accuracy: 0.8205\n",
      "Epoch 46/50\n",
      "11/11 [==============================] - 53s 5s/step - loss: 1.5293e-04 - accuracy: 0.9656 - val_loss: 0.0014 - val_accuracy: 0.8205\n",
      "Epoch 47/50\n",
      "11/11 [==============================] - 62s 6s/step - loss: 1.8038e-04 - accuracy: 0.9742 - val_loss: 0.0014 - val_accuracy: 0.8974\n",
      "Epoch 48/50\n",
      "11/11 [==============================] - 65s 6s/step - loss: 2.0525e-04 - accuracy: 0.9771 - val_loss: 0.0014 - val_accuracy: 0.8462\n",
      "Epoch 49/50\n",
      "11/11 [==============================] - 56s 5s/step - loss: 1.6580e-04 - accuracy: 0.9685 - val_loss: 0.0015 - val_accuracy: 0.8462\n",
      "Epoch 50/50\n",
      "11/11 [==============================] - 55s 5s/step - loss: 2.0814e-04 - accuracy: 0.9628 - val_loss: 0.0014 - val_accuracy: 0.8718\n"
     ]
    }
   ],
   "source": [
    "# Fit the model and save the data in history\n",
    "history = model.fit(train_images,train_targets,validation_data=(test_images,test_targets),batch_size=32,epochs=50,verbose=1)"
   ]
  },
  {
   "cell_type": "markdown",
   "id": "5114249a-97c1-44c6-95e2-42b366b97f56",
   "metadata": {},
   "source": [
    "# Step 3: plotting curves & Saving our model"
   ]
  },
  {
   "cell_type": "code",
   "execution_count": 18,
   "id": "bda2e2cf-c901-40b0-bf8b-59827f97451c",
   "metadata": {},
   "outputs": [
    {
     "data": {
      "image/png": "[encoded data removed]",
      "text/plain": [
       "<Figure size 1200x400 with 2 Axes>"
      ]
     },
     "metadata": {},
     "output_type": "display_data"
    }
   ],
   "source": [
    "# Plotting the loss\n",
    "plt.figure(figsize=(12, 4))\n",
    "plt.subplot(1, 2, 1)\n",
    "plt.plot(history.history['loss'], label='Loss')\n",
    "plt.plot(history.history['val_loss'], label='Value Loss')\n",
    "plt.title('Training Losses')\n",
    "plt.xlabel('Epoch')\n",
    "plt.ylabel('Loss')\n",
    "plt.legend()\n",
    "\n",
    "# Plotting the accuracy\n",
    "plt.subplot(1, 2, 2)\n",
    "plt.plot(history.history['accuracy'], label='Accuracy')\n",
    "plt.plot(history.history['val_accuracy'], label='Value Accuracy')\n",
    "plt.title('Training Accuracy')\n",
    "plt.xlabel('Epoch')\n",
    "plt.ylabel('Accuracy')\n",
    "plt.legend()\n",
    "\n",
    "plt.tight_layout()\n",
    "plt.show()"
   ]
  },
  {
   "cell_type": "code",
   "execution_count": 24,
   "id": "2d5ef29b-d97e-4f2c-a298-af972a02df1b",
   "metadata": {},
   "outputs": [
    {
     "name": "stdout",
     "output_type": "stream",
     "text": [
      "INFO:tensorflow:Assets written to: horse_sole_detection\\assets\n"
     ]
    },
    {
     "name": "stderr",
     "output_type": "stream",
     "text": [
      "INFO:tensorflow:Assets written to: horse_sole_detection\\assets\n"
     ]
    }
   ],
   "source": [
    "# lets save model \n",
    "model.save('horse_sole_detection')"
   ]
  },
  {
   "cell_type": "markdown",
   "id": "6d6c1672-3372-4b60-9b47-af59abb188ea",
   "metadata": {},
   "source": [
    "# Step 4: Performing Horse sole Detection"
   ]
  },
  {
   "cell_type": "code",
   "execution_count": 29,
   "id": "6723758f-fddd-41e7-91f7-3abaed9d93ee",
   "metadata": {},
   "outputs": [],
   "source": [
    "model=load_model('horse_sole_detection')"
   ]
  },
  {
   "cell_type": "code",
   "execution_count": 48,
   "id": "cdfc6599-1708-4ef7-9c5c-fc9630ff7ac4",
   "metadata": {},
   "outputs": [],
   "source": [
    "new_imagepath=r'C:\\Users\\admin2\\horsesole_detection\\datatset\\images\\image_0147.jpg'\n",
    "# 0147, 0347,\n",
    "new_image = load_img(new_imagepath,\n",
    "                 target_size=(224,224))\n",
    "new_image = img_to_array(new_image) / 255.0\n",
    "new_image = np.expand_dims(new_image,axis=0)"
   ]
  },
  {
   "cell_type": "code",
   "execution_count": 49,
   "id": "a481fd89-82da-4935-b7d9-c4c8500a16da",
   "metadata": {},
   "outputs": [
    {
     "name": "stdout",
     "output_type": "stream",
     "text": [
      "1/1 [==============================] - 0s 233ms/step\n"
     ]
    }
   ],
   "source": [
    "preds=model.predict(new_image)[0]\n",
    "(startX,startY,endX,endY)=preds"
   ]
  },
  {
   "cell_type": "code",
   "execution_count": 50,
   "id": "786b892d-cec7-4622-8a4d-1d12fe9cc280",
   "metadata": {},
   "outputs": [],
   "source": [
    "new_image=cv2.imread(new_imagepath)\n",
    "new_image=imutils.resize(new_image,width=600)\n",
    "\n",
    "(h,w)=new_image.shape[:2]\n",
    "\n",
    "startX=int(startX * w)\n",
    "startY=int(startY * h)\n",
    "endX=int(endX * w)\n",
    "endY=int(endY * h)\n",
    "\n",
    "#draw only rectangle box\n",
    "cv2.rectangle(new_image,(startX,startY),(endX,endY),(0,255,0),3)\n",
    "\n",
    "# Display the image\n",
    "cv2.imshow('Image', new_image)\n",
    "cv2.waitKey(0)\n",
    "cv2.destroyAllWindows()\n"
   ]
  },
  {
   "cell_type": "code",
   "execution_count": null,
   "id": "acc35da2-18fc-4c4c-8b54-06a0f1296a2c",
   "metadata": {},
   "outputs": [],
   "source": [
    "# # Draw bounding box and filled with green color\n",
    "\n",
    "# new_imagepath=r'C:\\Users\\admin2\\horsesole_detection\\datatset\\images\\image_0088.jpg'\n",
    "\n",
    "# # Specify the thickness of the bounding box\n",
    "# thickness = 2\n",
    "\n",
    "# # Import load_img\n",
    "# import imutils\n",
    "# import numpy as np\n",
    "# import pandas as pd\n",
    "# from tensorflow.keras.preprocessing.image import load_img, img_to_array\n",
    "\n",
    "# # Load and preprocess the image for prediction\n",
    "# image = load_img(new_imagepath, target_size=(224, 224))\n",
    "# image = img_to_array(image) / 255.0\n",
    "# image = np.expand_dims(image, axis=0)\n",
    "\n",
    "# # Make predictions for the image\n",
    "# preds = model.predict(image)[0]\n",
    "# (startX, startY, endX, endY) = preds\n",
    "\n",
    "# # Read the original image for display\n",
    "# original_image = cv2.imread(new_imagepath)\n",
    "# original_image = imutils.resize(original_image, width=600)\n",
    "# (h, w) = original_image.shape[:2]\n",
    "\n",
    "# # Calculate coordinates for the bounding box\n",
    "# startX = int(startX * w)\n",
    "# startY = int(startY * h)\n",
    "# endX = int(endX * w)\n",
    "# endY = int(endY * h)\n",
    "\n",
    "# # Find the center point of the bounding box\n",
    "# center_x = (startX + endX) // 2\n",
    "# center_y = (startY + endY) // 2\n",
    "\n",
    "# # Find the height and width of the bounding box\n",
    "# box_width = endX - startX\n",
    "# box_height = endY - startY\n",
    "\n",
    "# # Define assumed pixels per inch (PPI)\n",
    "# ppi = 96\n",
    "\n",
    "# # Calculate inches per pixel\n",
    "# inches_per_pixel = 1 / ppi\n",
    "\n",
    "# # Find the height and width of the bounding box in inches\n",
    "# box_width_inches = box_width * inches_per_pixel\n",
    "# box_height_inches = box_height * inches_per_pixel\n",
    "\n",
    "# # Print the width, height, and center point in inches\n",
    "# print(f\"Width: {box_width_inches:.2f} inches, Height: {box_height_inches:.2f} inches\")\n",
    "# print(f\"center point:({center_x},{center_y})\")\n",
    "\n",
    "# # Draw filled bounding box with green color\n",
    "# rectangle_pts = np.array([(startX, startY), (endX, startY), (endX, endY), (startX, endY)], dtype=np.int32)\n",
    "# cv2.fillPoly(original_image, [rectangle_pts], color=(0, 255, 0))\n",
    "\n",
    "# # Draw the center point (a small red dot)\n",
    "# cv2.circle(original_image, (center_x, center_y), 5, (0, 0, 255), -1)\n",
    "\n",
    "# # Display the image with filled bounding box and center point\n",
    "# cv2.imshow('Image with Bounding Box and Center Point', original_image)\n",
    "# cv2.waitKey(0)\n",
    "# cv2.destroyAllWindows()\n"
   ]
  }
 ],
 "metadata": {
  "kernelspec": {
   "display_name": "Python 3 (ipykernel)",
   "language": "python",
   "name": "python3"
  },
  "language_info": {
   "codemirror_mode": {
    "name": "ipython",
    "version": 3
   },
   "file_extension": ".py",
   "mimetype": "text/x-python",
   "name": "python",
   "nbconvert_exporter": "python",
   "pygments_lexer": "ipython3",
   "version": "3.11.5"
  }
 },
 "nbformat": 4,
 "nbformat_minor": 5
}
